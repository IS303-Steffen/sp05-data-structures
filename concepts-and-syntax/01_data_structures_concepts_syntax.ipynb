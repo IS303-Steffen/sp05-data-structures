{
 "cells": [
  {
   "cell_type": "markdown",
   "id": "6e43d305",
   "metadata": {},
   "source": [
    "\n",
    "# Syntax & Concepts: Data Structures (Lists and Dictionaries)\n",
    "\n",
    "### Before Class:\n",
    "\n",
    "1. **Read this notebook and attempt each \"You Try\" section.**\n",
    "    - Need help? Check the AI tips or your textbook.\n",
    "\n",
    "2. **Complete at least one practice problem from this chapter.**\n",
    "    - Problems are ordered from easiest to hardest.\n",
    "    - Stuck? Copy and paste the instructions and AI prompt into your preferred AI service for guided help.\n",
    "\n",
    "3. **Submit your attempted practice problem code in the \"Class Prep Report\" on Learning Suite for credit.**\n",
    "\n",
    "#### Need more explanation? Copy and paste this AI prompt along with any code you have questions about:\n",
    "(Double-click the text below, then copy and paste it into your AI service.)\n",
    "\n",
    "```\n",
    "I am new to Python and just starting to learn coding. I need simple, clear explanations. When I ask a question or show my code, act like my personal tutor: correct mistakes gently, clarify misconceptions, and use easy-to-follow language. Feel free to use examples or metaphors to help me understand. Let me know when I'm doing well or what I need to adjust.\n",
    "```\n"
   ]
  },
  {
   "cell_type": "markdown",
   "id": "133b65ab",
   "metadata": {},
   "source": [
    "\n",
    "### Chapter Summary\n",
    "In this chapter, you'll learn about data structures, which are ways to organize multiple values within one variable. You'll specifically learn how to use lists to store ordered collections of items and dictionaries to store key-value pairs.\n"
   ]
  },
  {
   "cell_type": "markdown",
   "id": "df02f63f",
   "metadata": {},
   "source": [
    "## 1: Lists\n",
    "Lists store multiple items in a single variable and maintain order."
   ]
  },
  {
   "cell_type": "code",
   "execution_count": null,
   "id": "ba532354",
   "metadata": {},
   "outputs": [],
   "source": [
    "fruits = [\"apple\", \"banana\", \"cherry\"]\n",
    "print(fruits[0])  # prints apple"
   ]
  },
  {
   "cell_type": "markdown",
   "id": "30378e37",
   "metadata": {},
   "source": [
    "### 1.p: You Try\n",
    "Create a list of three favorite movies and print the second one."
   ]
  },
  {
   "cell_type": "code",
   "execution_count": null,
   "id": "6fc1e5fb",
   "metadata": {},
   "outputs": [],
   "source": [
    "# Your code here\n"
   ]
  },
  {
   "cell_type": "markdown",
   "id": "9265788c",
   "metadata": {},
   "source": [
    "## 2: Basic List Operations\n",
    "You can add, remove, and modify items in lists."
   ]
  },
  {
   "cell_type": "code",
   "execution_count": null,
   "id": "df2f8508",
   "metadata": {},
   "outputs": [],
   "source": [
    "fruits = [\"apple\", \"banana\"]\n",
    "fruits.append(\"cherry\")\n",
    "fruits.remove(\"banana\")\n",
    "print(fruits)"
   ]
  },
  {
   "cell_type": "markdown",
   "id": "a1eea2a2",
   "metadata": {},
   "source": [
    "### 2.p: You Try\n",
    "Create a list of animals, add a new animal to it, remove one animal, and print the final list."
   ]
  },
  {
   "cell_type": "code",
   "execution_count": null,
   "id": "c77c3250",
   "metadata": {},
   "outputs": [],
   "source": [
    "# Your code here\n"
   ]
  },
  {
   "cell_type": "markdown",
   "id": "9d0c0e58",
   "metadata": {},
   "source": [
    "## 3: Dictionaries\n",
    "Dictionaries store pairs of keys and values, allowing you to access values by their keys."
   ]
  },
  {
   "cell_type": "code",
   "execution_count": null,
   "id": "ce0077e5",
   "metadata": {},
   "outputs": [],
   "source": [
    "person = {\"name\": \"John\", \"age\": 30}\n",
    "print(person[\"name\"])"
   ]
  },
  {
   "cell_type": "markdown",
   "id": "9c812803",
   "metadata": {},
   "source": [
    "### 3.p: You Try\n",
    "Create a dictionary representing your favorite book (with keys for title, author, and year) and print the author."
   ]
  },
  {
   "cell_type": "code",
   "execution_count": null,
   "id": "69299e9e",
   "metadata": {},
   "outputs": [],
   "source": [
    "# Your code here\n"
   ]
  },
  {
   "cell_type": "markdown",
   "id": "97b0bb8d",
   "metadata": {},
   "source": [
    "## 4: Dictionary Operations\n",
    "You can add, update, or remove key-value pairs in dictionaries."
   ]
  },
  {
   "cell_type": "code",
   "execution_count": null,
   "id": "6b032f67",
   "metadata": {},
   "outputs": [],
   "source": [
    "person = {\"name\": \"John\", \"age\": 30}\n",
    "person[\"city\"] = \"New York\"  # add new pair\n",
    "person[\"age\"] = 31  # update existing pair\n",
    "del person[\"name\"]  # remove a pair\n",
    "print(person)"
   ]
  },
  {
   "cell_type": "markdown",
   "id": "0c57c199",
   "metadata": {},
   "source": [
    "### 4.p: You Try\n",
    "Create a dictionary for a city with keys for name, population, and country. Then update the population, add a new key for language, and print the final dictionary."
   ]
  },
  {
   "cell_type": "code",
   "execution_count": null,
   "id": "481f30f8",
   "metadata": {},
   "outputs": [],
   "source": [
    "# Your code here\n"
   ]
  },
  {
   "cell_type": "markdown",
   "id": "10c983dd",
   "metadata": {},
   "source": [
    "\n",
    "## Want to Learn More?\n",
    "If you'd like extra help or more details, you can:\n",
    "- **Ask AI**: Use the suggested questions in the `review_with_ai` file.\n",
    "- **Read your textbook**: Check the reading guide on Learning Suite beforehand.\n",
    "- **Review class practice files**: They contain more detailed examples and explanations, available on Learning Suite.\n"
   ]
  }
 ],
 "metadata": {},
 "nbformat": 4,
 "nbformat_minor": 5
}
