{
 "cells": [
  {
   "cell_type": "markdown",
   "id": "1b4f43d0",
   "metadata": {},
   "source": [
    "\n",
    "# Review with AI: Data Structures (Lists and Dictionaries)\n",
    "\n",
    "Use this notebook to deepen your understanding of how Python organizes data using lists and dictionaries.\n",
    "\n",
    "### How to use this notebook:\n",
    "- **Copy and paste** the provided prompts and questions into your preferred AI tool (such as ChatGPT or Copilot).\n",
    "- **Check your understanding** by explaining concepts in your own words and having AI correct or clarify your explanations.\n",
    "- **Generate practice problems** using the provided specific prompt, attempt solving them, and have AI check your answers.\n"
   ]
  },
  {
   "cell_type": "markdown",
   "id": "696a342c",
   "metadata": {},
   "source": [
    "\n",
    "## AI Setup Prompt\n",
    "\n",
    "Start by pasting this prompt into your AI for clear, helpful responses:\n",
    "\n",
    "```\n",
    "I am a beginner in an introductory Python programming course. When I ask questions or describe a concept, please respond as my tutor by explaining in simple, easy-to-understand language. Correct any mistakes gently and clarify misconceptions. Use examples or metaphors when helpful. Let me know what I'm understanding well and what I might need to improve or clarify.\n",
    "```\n"
   ]
  },
  {
   "cell_type": "markdown",
   "id": "04969eb2",
   "metadata": {},
   "source": [
    "\n",
    "## Questions to Review Concepts\n",
    "\n",
    "Ask your AI tutor these questions to reinforce your understanding:\n",
    "\n",
    "- What exactly are data structures in Python?\n",
    "- Why do we use data structures? What advantages do they provide?\n",
    "- What can I do with lists? Give me examples of common list operations.\n",
    "- What are dictionaries, and how are they used? Provide simple examples.\n",
    "- When would it be better to use a list versus a dictionary?\n",
    "- What's the difference between mutable and immutable data structures?\n",
    "- What's the difference between lists and tuples?\n"
   ]
  },
  {
   "cell_type": "markdown",
   "id": "fe2c908c",
   "metadata": {},
   "source": [
    "\n",
    "## Check Your Understanding\n",
    "\n",
    "Explain the following concepts in your own words to AI and ask for corrections or clarifications:\n",
    "\n",
    "- The main purpose of data structures\n",
    "- The difference between lists, tuples, and dictionaries\n",
    "- Mutable versus immutable variables and data structures\n"
   ]
  },
  {
   "cell_type": "markdown",
   "id": "2816c7c0",
   "metadata": {},
   "source": [
    "\n",
    "## Generate Your Own Practice Question\n",
    "\n",
    "Use the following prompt (with explicit guidance) to create a practice problem with AI. After attempting it, have AI review your solution:\n",
    "\n",
    "```\n",
    "I am a beginning python student in an intro course learning coding for the first time. So far, I've learned how to create variables, get input from users, use some popular built-in functions, and write if statements. Create a clear and simple practice problem for me focused on either lists or dictionaries. Don't include loops or other concepts I haven't learned yet. Provide only the problem without the solution. After attempting it, I'll show you my code to check if I did it correctly.\n",
    "```\n"
   ]
  }
 ],
 "metadata": {},
 "nbformat": 4,
 "nbformat_minor": 5
}
